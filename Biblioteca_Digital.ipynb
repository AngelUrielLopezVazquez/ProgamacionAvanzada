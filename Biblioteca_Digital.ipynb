{
 "cells": [
  {
   "cell_type": "code",
   "execution_count": 10,
   "metadata": {},
   "outputs": [],
   "source": [
    "from datetime import datetime, timedelta\n",
    "\n",
    "class Material:\n",
    "    def __init__(self, titulo, estado='disponible'):\n",
    "        self.titulo = titulo\n",
    "        self.estado = estado\n",
    "\n",
    "    def prestar(self):\n",
    "        if self.estado == 'disponible':\n",
    "            self.estado = 'prestado'\n",
    "            return True\n",
    "        return False\n",
    "\n",
    "    def devolver(self):\n",
    "        self.estado = 'disponible'\n",
    "\n",
    "    def __str__(self):\n",
    "        return f\"{self.titulo} ({self.estado})\"\n",
    "\n",
    "\n",
    "class Libro(Material):\n",
    "    def __init__(self, titulo, autor, genero):\n",
    "        super().__init__(titulo)\n",
    "        self.autor = autor\n",
    "        self.genero = genero\n",
    "\n",
    "    def __str__(self):\n",
    "        return f\"Libro: {self.titulo} por {self.autor} ({self.genero})\"\n",
    "\n",
    "class Revista(Material):\n",
    "    def __init__(self, titulo, edicion, periodicidad):\n",
    "        super().__init__(titulo)\n",
    "        self.edicion = edicion\n",
    "        self.periodicidad = periodicidad\n",
    "\n",
    "    def __str__(self):\n",
    "        return f\"Revista: {self.titulo}, edicion: {self.edicion} ({self.periodicidad})\"\n",
    "\n",
    "class MaterialDigital(Material):\n",
    "    def __init__(self, titulo, tipo_archivo, enlace):\n",
    "        super().__init__(titulo)\n",
    "        self.tipo_archivo = tipo_archivo\n",
    "        self.enlace = enlace\n",
    "\n",
    "    def __str__(self):\n",
    "        return f\"Material digital: {self.titulo} ({self.tipo_archivo}) enlace: {self.enlace}\"\n",
    "\n",
    "class Persona:\n",
    "    def __init__(self, nombre, apellido):\n",
    "        self.nombre = nombre\n",
    "        self.apellido = apellido\n",
    "\n",
    "class Usuario(Persona):\n",
    "    def __init__(self,nombre,apellido):\n",
    "        super().__init__(nombre,apellido)\n",
    "        self.materiales_prestados = []\n",
    "        self.penalizaciones = 0\n",
    "\n",
    "    def pedir_prestado(self,material,fecha_prestamo,dias_prestamo=7):\n",
    "        if material.prestar():\n",
    "            fecha_devolucion = fecha_prestamo + timedelta(days=dias_prestamo)\n",
    "            self.materiales_prestados.append((material, fecha_prestamo, fecha_devolucion))\n",
    "            print(f\"{self.nombre} pidio prestado '{material.titulo}' el {fecha_prestamo.strftime('%Y-%m-%d')}, debe devolverlo antes del {fecha_devolucion.strftime('%Y-%m-%d')}\")\n",
    "            return True\n",
    "        print(f\"No se pudo prestar '{material.titulo}', no esta disponible.\")\n",
    "        return False\n",
    "\n",
    "    def devolver_material(self, material):\n",
    "        for i, (j, fecha_prestamo, fecha_devolucion) in enumerate(self.materiales_prestados):\n",
    "            if j == material:\n",
    "                if datetime.now() > fecha_devolucion:\n",
    "                    dias_retraso = (datetime.now() - fecha_devolucion).days\n",
    "                    self.penalizaciones += dias_retraso\n",
    "                    print(f\"{self.nombre} ha devuelto '{material.titulo}' con {dias_retraso} dias de retraso. Penalizaciones acumuladas: {self.penalizaciones}\")\n",
    "                else:\n",
    "                    print(f\"{self.nombre} ha devuelto '{material.titulo}' a tiempo.\")\n",
    "                material.devolver()\n",
    "                self.materiales_prestados.pop(i)\n",
    "                return True\n",
    "        print(f\"'{material.titulo}' no esta en la lista de materiales prestados de {self.nombre}.\")\n",
    "        return False\n",
    "\n",
    "class Bibliotecario(Persona):\n",
    "    def __init__(self,nombre,apellido, sucursal):\n",
    "        super().__init__(nombre,apellido)\n",
    "        self.sucursal = sucursal\n",
    "\n",
    "    def agregar_material(self, material):\n",
    "        self.sucursal.agregar_material(material)\n",
    "\n",
    "    def transferir_material(self, material, otra_sucursal):\n",
    "        if self.sucursal.eliminar_material(material):\n",
    "            otra_sucursal.agregar_material(material)\n",
    "            print(f'{self.nombre} transfirio \"{material.titulo}\" a \"{otra_sucursal.nombre}')\n",
    "\n",
    "class Sucursal:\n",
    "    def __init__(self, nombre):\n",
    "        self.nombre = nombre\n",
    "        self.catalogo = []\n",
    "\n",
    "    def agregar_material(self, material):\n",
    "        self.catalogo.append(material)\n",
    "        print(f'{material.titulo} fue agregado a la biblioteca {self.nombre}') \n",
    "\n",
    "    def eliminar_material(self, material):\n",
    "        if material in self.catalogo:\n",
    "            self.catalogo.remove(material)\n",
    "            print(f'El {material.titulo} fue eliminado de la biblioteca {self.nombre}')\n",
    "            return True\n",
    "        print(f'No se encontro {material.titulo} en {self.nombre}')\n",
    "        return False \n",
    "    \n",
    "    def mostrar_catalogo(self):\n",
    "        print(f'Catalogo de la biblioteca \"{self.nombre}\":')\n",
    "        if self.catalogo:\n",
    "            for i, material in enumerate(self.catalogo, 1):\n",
    "                print(f'{i}, {material}')\n",
    "        else:\n",
    "            print('La biblioteca no tiene materiales.') \n",
    "\n",
    "class Penalizacion:\n",
    "    def __init__(self, usuario, dias_retraso):\n",
    "        self.usuario = usuario\n",
    "        self.dias_retraso = dias_retraso\n",
    "        self.multa = dias_retraso * 1\n",
    "\n",
    "    def __str__(self):\n",
    "        return f\"Penalización para {self.usuario.nombre}: {self.dias_retraso} días de retraso, multa de ${self.multa}\""
   ]
  },
  {
   "cell_type": "code",
   "execution_count": 11,
   "metadata": {},
   "outputs": [],
   "source": [
    "libro1 = Libro(\"Cronicas del espacio\", \"Neil deGrasse Tyson\", \"Informativo\")\n",
    "revista1 = Revista(\"National Geographic\", \"Enero 2025\", \"Mensual\")\n",
    "digital1 = MaterialDigital(\"Data Sciencie for dummies\", \"PDF\", \"http://iakshs.com/python.pdf\")"
   ]
  },
  {
   "cell_type": "code",
   "execution_count": 12,
   "metadata": {},
   "outputs": [],
   "source": [
    "sucursal1 = Sucursal(\"Biblioteca Central\")\n",
    "sucursal2 = Sucursal(\"Biblioteca Sur\")"
   ]
  },
  {
   "cell_type": "code",
   "execution_count": 13,
   "metadata": {},
   "outputs": [],
   "source": [
    "usuario1 = Usuario(\"Pedro\",\"Medina\")\n",
    "bibliotecario1 = Bibliotecario(\"Ana\",\"Gonzalez\", sucursal1)\n",
    "penalizacion1 = Penalizacion(usuario1, 3)"
   ]
  },
  {
   "cell_type": "code",
   "execution_count": 14,
   "metadata": {},
   "outputs": [
    {
     "name": "stdout",
     "output_type": "stream",
     "text": [
      "Cronicas del espacio fue agregado a la biblioteca Biblioteca Central\n",
      "National Geographic fue agregado a la biblioteca Biblioteca Central\n",
      "Data Sciencie for dummies fue agregado a la biblioteca Biblioteca Central\n"
     ]
    }
   ],
   "source": [
    "bibliotecario1.agregar_material(libro1)\n",
    "bibliotecario1.agregar_material(revista1)\n",
    "bibliotecario1.agregar_material(digital1)"
   ]
  },
  {
   "cell_type": "code",
   "execution_count": 15,
   "metadata": {},
   "outputs": [
    {
     "name": "stdout",
     "output_type": "stream",
     "text": [
      "Pedro pidio prestado 'Cronicas del espacio' el 2025-02-02, debe devolverlo antes del 2025-02-09\n",
      "Penalización para Pedro: 3 días de retraso, multa de $3\n"
     ]
    }
   ],
   "source": [
    "fecha_prestamo = datetime.now() - timedelta(days=10)\n",
    "usuario1.pedir_prestado(libro1, fecha_prestamo)\n",
    "print(penalizacion1)"
   ]
  },
  {
   "cell_type": "code",
   "execution_count": 16,
   "metadata": {},
   "outputs": [
    {
     "name": "stdout",
     "output_type": "stream",
     "text": [
      "Pedro ha devuelto 'Cronicas del espacio' con 3 dias de retraso. Penalizaciones acumuladas: 3\n"
     ]
    },
    {
     "data": {
      "text/plain": [
       "True"
      ]
     },
     "execution_count": 16,
     "metadata": {},
     "output_type": "execute_result"
    }
   ],
   "source": [
    "usuario1.devolver_material(libro1)"
   ]
  },
  {
   "cell_type": "code",
   "execution_count": 17,
   "metadata": {},
   "outputs": [
    {
     "name": "stdout",
     "output_type": "stream",
     "text": [
      "El National Geographic fue eliminado de la biblioteca Biblioteca Central\n",
      "National Geographic fue agregado a la biblioteca Biblioteca Sur\n",
      "Ana transfirio \"National Geographic\" a \"Biblioteca Sur\n"
     ]
    }
   ],
   "source": [
    "bibliotecario1.transferir_material(revista1, sucursal2)"
   ]
  }
 ],
 "metadata": {
  "kernelspec": {
   "display_name": "Python 3",
   "language": "python",
   "name": "python3"
  },
  "language_info": {
   "codemirror_mode": {
    "name": "ipython",
    "version": 3
   },
   "file_extension": ".py",
   "mimetype": "text/x-python",
   "name": "python",
   "nbconvert_exporter": "python",
   "pygments_lexer": "ipython3",
   "version": "3.12.5"
  }
 },
 "nbformat": 4,
 "nbformat_minor": 2
}
